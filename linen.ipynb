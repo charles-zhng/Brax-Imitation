{
 "cells": [
  {
   "cell_type": "code",
   "execution_count": 45,
   "metadata": {},
   "outputs": [],
   "source": [
    "import jax\n",
    "from jax import random\n",
    "from jax import numpy as jnp\n",
    "from flax import linen as nn\n"
   ]
  },
  {
   "cell_type": "code",
   "execution_count": 46,
   "metadata": {},
   "outputs": [],
   "source": [
    "class Encoder(nn.Module):\n",
    "    @nn.compact\n",
    "    def __call__(self, x):\n",
    "        x = nn.Dense(100, \n",
    "                    kernel_init=jax.nn.initializers.lecun_uniform(),\n",
    "                    use_bias=True)(x)\n",
    "        \n",
    "        return x"
   ]
  },
  {
   "cell_type": "code",
   "execution_count": 47,
   "metadata": {},
   "outputs": [],
   "source": [
    "encoder = Encoder()"
   ]
  },
  {
   "cell_type": "code",
   "execution_count": 48,
   "metadata": {},
   "outputs": [],
   "source": [
    "rng = random.key(0)\n",
    "rng, key = random.split(rng)\n",
    "params = encoder.init(key, jnp.ones(100))\n"
   ]
  },
  {
   "cell_type": "markdown",
   "metadata": {},
   "source": [
    "inference logic: ([from here](https://github.com/google/flax/blob/main/examples/vae/train.py))"
   ]
  },
  {
   "cell_type": "code",
   "execution_count": 51,
   "metadata": {},
   "outputs": [],
   "source": [
    "# state = train_state.TrainState.create(\n",
    "#       apply_fn=models.model(config.latents).apply,\n",
    "#       params=params,\n",
    "#       tx=optax.adam(config.learning_rate),\n",
    "# )\n",
    "\n",
    "x = Encoder().apply(\n",
    "    params,\n",
    "    jnp.ones(100),\n",
    ")"
   ]
  },
  {
   "cell_type": "code",
   "execution_count": 52,
   "metadata": {},
   "outputs": [
    {
     "data": {
      "text/plain": [
       "Array([ 4.39769208e-01,  4.76971388e-01,  8.38667095e-01,  2.57758093e+00,\n",
       "       -9.05052185e-01,  7.47767806e-01,  8.66471231e-01, -6.47709906e-01,\n",
       "        4.19767648e-02, -3.01385015e-01, -8.68966356e-02,  1.04315996e+00,\n",
       "        2.70110512e+00,  2.19606566e+00, -3.67333978e-01, -6.81737721e-01,\n",
       "        3.22897077e-01,  5.75336576e-01, -1.20743930e+00,  9.37444985e-01,\n",
       "        4.45862301e-02,  6.66311920e-01,  1.37300766e+00, -8.78809750e-01,\n",
       "       -1.01756185e-01,  6.43599987e-01,  1.34908319e+00,  6.89843148e-02,\n",
       "       -4.49426383e-01, -4.09616470e-01,  1.31793237e+00,  5.60239017e-01,\n",
       "        2.09189951e-03,  6.94814801e-01,  2.98978597e-01, -1.33765483e+00,\n",
       "       -7.50415385e-01,  1.55829179e+00, -1.24136344e-01, -1.37057900e+00,\n",
       "       -4.15253639e-01,  2.03789067e+00,  8.49721193e-01,  4.87271100e-01,\n",
       "       -1.00089777e+00,  1.59167245e-01, -1.65157628e+00, -1.06736206e-01,\n",
       "        6.73994184e-01, -1.31413519e+00, -1.23445503e-01,  3.17709178e-01,\n",
       "        8.73072088e-01,  5.76327741e-01, -1.86572957e+00, -6.58410490e-02,\n",
       "       -8.74155015e-03, -1.10580754e+00,  1.03049129e-01,  2.54472136e+00,\n",
       "       -4.36749637e-01, -1.64499149e-01, -1.51026535e+00,  2.24174118e+00,\n",
       "       -8.80126059e-02,  1.18802500e+00, -9.80248898e-02,  3.77657115e-01,\n",
       "        2.09657207e-01,  6.60822451e-01,  1.01117857e-01,  1.02998137e+00,\n",
       "        9.32622254e-01, -1.38958812e+00,  3.49007964e-01,  1.71988261e+00,\n",
       "       -9.77672458e-01, -1.56277955e+00,  1.83019209e+00, -4.19628739e-01,\n",
       "       -9.61288810e-01, -5.50428331e-01, -1.43504989e+00, -1.15277863e+00,\n",
       "       -1.45391941e+00,  1.06853470e-01,  1.59510225e-02,  1.72806847e+00,\n",
       "       -4.10129935e-01,  8.31348062e-01, -5.45141548e-02, -2.68986166e-01,\n",
       "        1.31034899e+00, -7.86249220e-01, -2.21972084e+00, -5.73983073e-01,\n",
       "       -3.66185784e-01, -7.19142616e-01,  1.09956062e+00, -1.08482134e+00],      dtype=float32)"
      ]
     },
     "execution_count": 52,
     "metadata": {},
     "output_type": "execute_result"
    }
   ],
   "source": [
    "x"
   ]
  },
  {
   "cell_type": "code",
   "execution_count": null,
   "metadata": {},
   "outputs": [],
   "source": []
  }
 ],
 "metadata": {
  "kernelspec": {
   "display_name": "rl",
   "language": "python",
   "name": "python3"
  },
  "language_info": {
   "codemirror_mode": {
    "name": "ipython",
    "version": 3
   },
   "file_extension": ".py",
   "mimetype": "text/x-python",
   "name": "python",
   "nbconvert_exporter": "python",
   "pygments_lexer": "ipython3",
   "version": "3.11.8"
  }
 },
 "nbformat": 4,
 "nbformat_minor": 2
}
